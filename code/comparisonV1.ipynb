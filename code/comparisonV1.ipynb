{
 "cells": [
  {
   "cell_type": "code",
   "execution_count": 1,
   "metadata": {},
   "outputs": [
    {
     "name": "stderr",
     "output_type": "stream",
     "text": [
      "/home/predatt/benehi/.conda/envs/fmri/lib/python3.7/site-packages/sklearn/externals/joblib/__init__.py:15: DeprecationWarning: sklearn.externals.joblib is deprecated in 0.21 and will be removed in 0.23. Please import this functionality directly from joblib, which can be installed with: pip install joblib. If this warning is raised when loading pickled models, you may need to re-serialize those models with scikit-learn 0.21+.\n",
      "  warnings.warn(msg, category=DeprecationWarning)\n"
     ]
    }
   ],
   "source": [
    "import neuropythy as ny\n",
    "from nilearn import surface"
   ]
  },
  {
   "cell_type": "code",
   "execution_count": 30,
   "metadata": {},
   "outputs": [
    {
     "data": {
      "text/plain": [
       "'/project/3018028.04/SubjectData/S12/'"
      ]
     },
     "execution_count": 30,
     "metadata": {},
     "output_type": "execute_result"
    }
   ],
   "source": [
    "'/project/3018028.04/SubjectData/S{:02d}/'.format(12)"
   ]
  },
  {
   "cell_type": "code",
   "execution_count": 38,
   "metadata": {},
   "outputs": [
    {
     "name": "stdout",
     "output_type": "stream",
     "text": [
      "190925-21:24:41,781 nipype.interface INFO:\n",
      "\t stdout 2019-09-25T21:24:41.781219:srcvol = /project/3018028.04/SubjectData/S28/Retinotopy/Anatomy/V1.nii.gz\n",
      "190925-21:24:41,784 nipype.interface INFO:\n",
      "\t stdout 2019-09-25T21:24:41.781219:srcreg unspecified\n",
      "190925-21:24:41,785 nipype.interface INFO:\n",
      "\t stdout 2019-09-25T21:24:41.781219:srcregold = 0\n",
      "190925-21:24:41,788 nipype.interface INFO:\n",
      "\t stdout 2019-09-25T21:24:41.781219:srcwarp unspecified\n",
      "190925-21:24:41,788 nipype.interface INFO:\n",
      "\t stdout 2019-09-25T21:24:41.781219:surf = white\n",
      "190925-21:24:41,798 nipype.interface INFO:\n",
      "\t stdout 2019-09-25T21:24:41.781219:hemi = lh\n",
      "190925-21:24:41,799 nipype.interface INFO:\n",
      "\t stdout 2019-09-25T21:24:41.781219:reshape = 0\n",
      "190925-21:24:41,799 nipype.interface INFO:\n",
      "\t stdout 2019-09-25T21:24:41.781219:interp = nearest\n",
      "190925-21:24:41,807 nipype.interface INFO:\n",
      "\t stdout 2019-09-25T21:24:41.781219:float2int = round\n",
      "190925-21:24:41,813 nipype.interface INFO:\n",
      "\t stdout 2019-09-25T21:24:41.781219:GetProjMax = 0\n",
      "190925-21:24:41,813 nipype.interface INFO:\n",
      "\t stdout 2019-09-25T21:24:41.781219:INFO: float2int code = 0\n",
      "190925-21:24:41,814 nipype.interface INFO:\n",
      "\t stdout 2019-09-25T21:24:41.781219:Done loading volume\n",
      "190925-21:24:41,815 nipype.interface INFO:\n",
      "\t stdout 2019-09-25T21:24:41.781219:Computing registration from header.\n",
      "190925-21:24:41,815 nipype.interface INFO:\n",
      "\t stdout 2019-09-25T21:24:41.781219:  Using /project/3018028.04/SubjectData/S28/Retinotopy/Freesurfer/mri/orig.mgz as target reference.\n",
      "190925-21:24:41,816 nipype.interface INFO:\n",
      "\t stdout 2019-09-25T21:24:41.781219:-------- original matrix -----------\n",
      "190925-21:24:41,817 nipype.interface INFO:\n",
      "\t stdout 2019-09-25T21:24:41.781219:-1.00000   0.00000  -0.00000   0.00002;\n",
      "190925-21:24:41,817 nipype.interface INFO:\n",
      "\t stdout 2019-09-25T21:24:41.781219: 0.00000   0.00000   1.00000   0.00000;\n",
      "190925-21:24:41,818 nipype.interface INFO:\n",
      "\t stdout 2019-09-25T21:24:41.781219: 0.00000  -1.00000   0.00000   0.00000;\n",
      "190925-21:24:41,818 nipype.interface INFO:\n",
      "\t stdout 2019-09-25T21:24:41.781219: 0.00000   0.00000   0.00000   1.00000;\n",
      "190925-21:24:43,126 nipype.interface INFO:\n",
      "\t stdout 2019-09-25T21:24:43.126197:-------- original matrix -----------\n",
      "190925-21:24:43,129 nipype.interface INFO:\n",
      "\t stdout 2019-09-25T21:24:43.126197:Reading surface /project/3018028.04/SubjectData/S28/Retinotopy/Freesurfer/surf/lh.white\n",
      "190925-21:24:43,129 nipype.interface INFO:\n",
      "\t stdout 2019-09-25T21:24:43.126197:Done reading source surface\n",
      "190925-21:24:43,134 nipype.interface INFO:\n",
      "\t stdout 2019-09-25T21:24:43.134563:Mapping Source Volume onto Source Subject Surface\n",
      "190925-21:24:43,207 nipype.interface INFO:\n",
      "\t stdout 2019-09-25T21:24:43.207187: 1 0 0 0\n",
      "190925-21:24:43,210 nipype.interface INFO:\n",
      "\t stdout 2019-09-25T21:24:43.207187:using old\n",
      "190925-21:24:43,214 nipype.interface INFO:\n",
      "\t stdout 2019-09-25T21:24:43.214754:Done mapping volume to surface\n",
      "190925-21:24:45,94 nipype.interface INFO:\n",
      "\t stdout 2019-09-25T21:24:45.093947:Number of source voxels hit = 81535\n",
      "190925-21:24:45,96 nipype.interface INFO:\n",
      "\t stdout 2019-09-25T21:24:45.093947:Surface smoothing by fwhm = 5 (n=14)\n",
      "190925-21:24:45,210 nipype.interface INFO:\n",
      "\t stdout 2019-09-25T21:24:45.210629:Writing to sub-28_desc-samRetinotopyV1_surface.mgh\n",
      "190925-21:24:45,213 nipype.interface INFO:\n",
      "\t stdout 2019-09-25T21:24:45.210629:Dim: 129901 1 1\n"
     ]
    }
   ],
   "source": [
    "for sub in range(28,29):\n",
    "    fspath = '/project/3018028.04/SubjectData/S{:02d}/'.format(sub)\n",
    "\n",
    "\n",
    "    import nipype.interfaces.freesurfer as fs\n",
    "    import os\n",
    "\n",
    "    try:\n",
    "        sampler = fs.SampleToSurface(hemi='lh')\n",
    "        sampler.inputs.source_file = os.path.normpath(fspath+'Retinotopy/Anatomy/V1.nii.gz')\n",
    "        sampler.inputs.reg_header = True\n",
    "        sampler.inputs.out_file = 'sub-{:02d}_desc-samRetinotopyV1_surface.mgh'.format(sub)\n",
    "        sampler.inputs.subject_id = 'Freesurfer'\n",
    "        sampler.inputs.subjects_dir = fspath+'Retinotopy'\n",
    "        sampler.inputs.projection_stem = '-projfrac-avg 0.25 0.75 0.25'\n",
    "        sampler.inputs.surface = 'white'\n",
    "        sampler.inputs.smooth_surf = 5\n",
    "        sampler.cmdline\n",
    "\n",
    "        res = sampler.run()\n",
    "    except:\n",
    "        continue\n",
    "            "
   ]
  }
 ],
 "metadata": {
  "kernelspec": {
   "display_name": "Python 3",
   "language": "python",
   "name": "python3"
  },
  "language_info": {
   "codemirror_mode": {
    "name": "ipython",
    "version": 3
   },
   "file_extension": ".py",
   "mimetype": "text/x-python",
   "name": "python",
   "nbconvert_exporter": "python",
   "pygments_lexer": "ipython3",
   "version": "3.7.4"
  }
 },
 "nbformat": 4,
 "nbformat_minor": 4
}
